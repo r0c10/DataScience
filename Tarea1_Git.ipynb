{
 "cells": [
  {
   "cell_type": "markdown",
   "metadata": {},
   "source": [
    "# Tarea 1: Version Control (Git)\n",
    "\n",
    "Rocío Serguera Almenares - 19012424"
   ]
  },
  {
   "cell_type": "markdown",
   "metadata": {},
   "source": [
    "### Control de versiones\n",
    "Es un sistema que toma instantáneas de un archivo o conjunto de archivos a lo largo del proceso de creación, de modo que puedas recuperar versiones específicas más adelante. \n",
    "\n",
    "#### Algunas ventajas:\n",
    "* Facilita el trabajo colaborativo: Distintos programadores pueden estar editando el mismo archivo, o versiones distintas del mismo archivo, y todos los cambios serán reflejados en el documento final.\n",
    "\n",
    "* Reduce  los tiempos de deploy (despliegue) de un proyecto, al subir solamente los cambios (no los archivos cambiados, sólo los cambios!), que en Git se conoce como \"diff\": las diferencias entre la versión local (la que estás trabajando) y la \"master\" que está en el servidor central.\n",
    "\n",
    "* Permite regresar a versiones anteriores de forma sencilla y muy rápida. En caso de haber realizado cambios negativos en un proyecto en producción, volver a la última versión estable es un simple comando, que retrocede a su estado previo todos los cambios realizados en la última modificación. Esto puede hacerse hacia cualquier versión del proyecto, sin importar la cantidad o calidad de los cambios posteriores.\n",
    "\n",
    "* Permite generar flujos de trabajo que facilitan el desarrollo y mantenimiento de proyectos de gran tamaño.\n",
    "\n",
    "* El ecosistema Git es increíble, y agrega un montón de herramientas a nuestra disposición para facilitarnos el trabajo, de forma robusta, rápida y profesional."
   ]
  },
  {
   "cell_type": "code",
   "execution_count": null,
   "metadata": {},
   "outputs": [],
   "source": []
  }
 ],
 "metadata": {
  "kernelspec": {
   "display_name": "Python 3",
   "language": "python",
   "name": "python3"
  },
  "language_info": {
   "codemirror_mode": {
    "name": "ipython",
    "version": 3
   },
   "file_extension": ".py",
   "mimetype": "text/x-python",
   "name": "python",
   "nbconvert_exporter": "python",
   "pygments_lexer": "ipython3",
   "version": "3.7.4"
  }
 },
 "nbformat": 4,
 "nbformat_minor": 2
}
