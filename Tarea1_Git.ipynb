{
 "cells": [
  {
   "cell_type": "markdown",
   "metadata": {},
   "source": [
    "# Tarea 1: Version Control (Git)\n",
    "\n",
    "Rocío Serguera Almenares - 19012424"
   ]
  },
  {
   "cell_type": "markdown",
   "metadata": {},
   "source": [
    "### Control de versiones\n",
    "Es un sistema que toma instantáneas de un archivo o conjunto de archivos a lo largo del proceso de creación, de modo que puedas recuperar versiones específicas más adelante. \n",
    "\n",
    "#### Algunas ventajas:\n",
    "* Facilita el trabajo colaborativo\n",
    "\n",
    "* Reduce  los tiempos de deploy (despliegue) de un proyecto, al subir solamente los cambios (no los archivos cambiados, sólo los cambios!), que en Git se conoce como \"diff\": las diferencias entre la versión local (la que estás trabajando) y la \"master\" que está en el servidor central.\n",
    "\n",
    "* Permite regresar a versiones anteriores de forma sencilla y muy rápida\n",
    "* Permite generar flujos de trabajo que facilitan el desarrollo y mantenimiento de proyectos de gran tamaño.\n",
    "\n",
    "* El ecosistema Git agrega un montón de herramientas a nuestra disposición para facilitarnos el trabajo, de forma robusta, rápida y profesional.\n",
    "\n",
    "#### Comandos básicos de GIT\n",
    "\n",
    "* git config\n",
    "\n",
    "Uno de los comandos más usados en git es git config, que puede ser usado para establecer una configuración específica de usuario, como sería el caso del email, un algoritmo preferido para diff, nombre de usuario y tipo de formato, etc… Por ejemplo, el siguiente comando se usa para establecer un email:"
   ]
  },
  {
   "cell_type": "code",
   "execution_count": null,
   "metadata": {},
   "outputs": [],
   "source": [
    "git config --global user.email sam@google.com"
   ]
  },
  {
   "cell_type": "markdown",
   "metadata": {},
   "source": [
    "* git init  \n",
    "Este comando se usa para crear un nuevo repertorio GIT:"
   ]
  },
  {
   "cell_type": "code",
   "execution_count": null,
   "metadata": {},
   "outputs": [],
   "source": [
    "git init"
   ]
  },
  {
   "cell_type": "markdown",
   "metadata": {},
   "source": [
    "* git add  \n",
    "Este comando puede ser usado para agregar archivos al index. Por ejemplo, el siguiente comando agrega un nombre de archivo temp.txt en el directorio local del index:"
   ]
  },
  {
   "cell_type": "code",
   "execution_count": null,
   "metadata": {},
   "outputs": [],
   "source": [
    "git add temp.txt"
   ]
  },
  {
   "cell_type": "markdown",
   "metadata": {},
   "source": [
    "* git clone  \n",
    "Este comando se usa con el propósito de revisar repertorios. Si el repertorio está en un servidor remoto se tiene que usar el siguiente comando:"
   ]
  },
  {
   "cell_type": "code",
   "execution_count": null,
   "metadata": {},
   "outputs": [],
   "source": [
    "git clone alex@93.188.160.58:/path/to/repository"
   ]
  },
  {
   "cell_type": "markdown",
   "metadata": {},
   "source": [
    "* git commit  \n",
    "El comando commit es usado para cambiar a la cabecera. Ten en cuenta que cualquier cambio comprometido no afectara al repertorio remoto. Usa el comando:"
   ]
  },
  {
   "cell_type": "code",
   "execution_count": null,
   "metadata": {},
   "outputs": [],
   "source": [
    "git commit –m “Message to go with the commit here”"
   ]
  },
  {
   "cell_type": "markdown",
   "metadata": {},
   "source": [
    "* git status  \n",
    "Este comando muestra la lista de los archivos que se han cambiado junto con los archivos que están por ser añadidos o comprometidos."
   ]
  },
  {
   "cell_type": "code",
   "execution_count": null,
   "metadata": {},
   "outputs": [],
   "source": [
    "git status"
   ]
  },
  {
   "cell_type": "markdown",
   "metadata": {},
   "source": [
    "* git merge  \n",
    "Este comando se usa para fusionar una rama con otra rama activa:"
   ]
  },
  {
   "cell_type": "code",
   "execution_count": null,
   "metadata": {},
   "outputs": [],
   "source": [
    "git merge <branch-name>"
   ]
  },
  {
   "cell_type": "markdown",
   "metadata": {},
   "source": [
    "* git diff  \n",
    "Este comando se usa para hacer una lista de conflictos. Para poder ver conflictos con el archivo base usa:"
   ]
  },
  {
   "cell_type": "code",
   "execution_count": null,
   "metadata": {},
   "outputs": [],
   "source": [
    "git diff --base <file-name>"
   ]
  },
  {
   "cell_type": "markdown",
   "metadata": {},
   "source": [
    "El siguiente comando se usa para ver los conflictos que hay entre ramas que están por ser fusionadas para poder fusionarlas sin problemas:"
   ]
  },
  {
   "cell_type": "code",
   "execution_count": null,
   "metadata": {},
   "outputs": [],
   "source": [
    "git diff <source-branch> <target-branch>"
   ]
  },
  {
   "cell_type": "markdown",
   "metadata": {},
   "source": [
    "Para solo ver una lista de todos los conflictos presentes usa:"
   ]
  },
  {
   "cell_type": "code",
   "execution_count": null,
   "metadata": {},
   "outputs": [],
   "source": [
    "git diff"
   ]
  },
  {
   "cell_type": "markdown",
   "metadata": {},
   "source": [
    "* git tag  \n",
    "Etiquetar se usa para marcar commits específicos con asas simples. Por ejemplo:"
   ]
  },
  {
   "cell_type": "code",
   "execution_count": null,
   "metadata": {},
   "outputs": [],
   "source": [
    "git tag 1.1.0 <instert-commitID-here>"
   ]
  },
  {
   "cell_type": "markdown",
   "metadata": {},
   "source": [
    "* git reset  \n",
    "Para resetear el index y el directorio que está trabajando al último estado comprometido se usa este comando:"
   ]
  },
  {
   "cell_type": "code",
   "execution_count": null,
   "metadata": {},
   "outputs": [],
   "source": [
    "git reset - -hard HEAD"
   ]
  },
  {
   "cell_type": "markdown",
   "metadata": {},
   "source": [
    "* git rm  \n",
    "Este comando se puede usar para remover archivos del index y del directorio que está trabajando:"
   ]
  },
  {
   "cell_type": "code",
   "execution_count": null,
   "metadata": {},
   "outputs": [],
   "source": [
    "git rm filename.txt"
   ]
  },
  {
   "cell_type": "markdown",
   "metadata": {},
   "source": [
    "* git stash  \n",
    "Este es uno de los comandos menos conocidos, pero ayuda a salvar cambios que no están por ser comprometidos inmediatamente, pero temporalmente:"
   ]
  },
  {
   "cell_type": "code",
   "execution_count": null,
   "metadata": {},
   "outputs": [],
   "source": [
    "git stash"
   ]
  },
  {
   "cell_type": "markdown",
   "metadata": {},
   "source": [
    "* git show  \n",
    "Se usa para mostrar información sobre cualquier objeto git. Por ejemplo:"
   ]
  },
  {
   "cell_type": "code",
   "execution_count": null,
   "metadata": {},
   "outputs": [],
   "source": [
    "git show"
   ]
  },
  {
   "cell_type": "markdown",
   "metadata": {},
   "source": [
    "* git fetch  \n",
    "Este comando le permite al usuario buscar todos los objetos de un repositorio remoto que actualmente no reside en el directorio local que está trabajando. Por ejemplo:"
   ]
  },
  {
   "cell_type": "code",
   "execution_count": null,
   "metadata": {},
   "outputs": [],
   "source": [
    "git fetch origin"
   ]
  },
  {
   "cell_type": "markdown",
   "metadata": {},
   "source": [
    "* git ls-tree  \n",
    "Para ver un objeto de árbol junto con el nombre y modo de cada uno de ellos, y el valor blob´s SHA-1, se usa:"
   ]
  },
  {
   "cell_type": "code",
   "execution_count": null,
   "metadata": {},
   "outputs": [],
   "source": [
    "git ls-tree HEAD"
   ]
  },
  {
   "cell_type": "markdown",
   "metadata": {},
   "source": [
    "* git cat-file  \n",
    "Usando el valor SHA-1, se puede ver el tipo de objeto usando este comando. Por ejemplo:"
   ]
  },
  {
   "cell_type": "code",
   "execution_count": null,
   "metadata": {},
   "outputs": [],
   "source": [
    "git cat-file –p d670460b4b4aece5915caf5c68d12f560a9fe3e4"
   ]
  },
  {
   "cell_type": "markdown",
   "metadata": {},
   "source": [
    "* git grep  \n",
    "Este comando le permite al usuario buscar en los árboles de contenido cualquier frase o palabra. Por ejemplo, para buscar por www.tupaginaweb.com en todos los archivos se usaría:"
   ]
  },
  {
   "cell_type": "code",
   "execution_count": null,
   "metadata": {},
   "outputs": [],
   "source": [
    "git grep “www.tupaginaweb.com”"
   ]
  },
  {
   "cell_type": "markdown",
   "metadata": {},
   "source": [
    "* gitk  \n",
    "Este es la interfaz gráfica para un repositorio local que puede invocar escribiendo y ejecutando:"
   ]
  },
  {
   "cell_type": "code",
   "execution_count": null,
   "metadata": {},
   "outputs": [],
   "source": [
    "gitk"
   ]
  },
  {
   "cell_type": "markdown",
   "metadata": {},
   "source": [
    "* git instaweb  \n",
    "Con este comando un servidor web puede correr interconectado con el repositorio local. Un navegador web también está automáticamente dirigido a el:"
   ]
  },
  {
   "cell_type": "code",
   "execution_count": null,
   "metadata": {},
   "outputs": [],
   "source": [
    "git instaweb –http=webrick"
   ]
  },
  {
   "cell_type": "markdown",
   "metadata": {},
   "source": [
    "* git gc  \n",
    "Para optimizar el repositorio por medio de una recolección de basura, que limpiara archivos innecesarios y los optimizara, usa: git hc\n",
    "\n",
    "* git archive  \n",
    "Este comando le permite al usuario crear archivos zip o tar que contengan los constituyentes de un solo árbol de repositorio: git archive – -format=tar master\n",
    "\n",
    "* git prune  \n",
    "Con este comando los objetos que no tengan ningún puntero entrante serán eliminados:git prune\n",
    "\n",
    "* git fsck  \n",
    "Para poder hacer un chequeo de integridad del sistema de archivos git, usa este comando. Cualquier objeto corrompido será detectado:git fsck\n",
    "\n",
    "* git rebase  \n",
    "Este comando se usa para la re aplicación de los compromisos en otra rama. Por ejemplo:git rebase master"
   ]
  }
 ],
 "metadata": {
  "kernelspec": {
   "display_name": "Python 3",
   "language": "python",
   "name": "python3"
  },
  "language_info": {
   "codemirror_mode": {
    "name": "ipython",
    "version": 3
   },
   "file_extension": ".py",
   "mimetype": "text/x-python",
   "name": "python",
   "nbconvert_exporter": "python",
   "pygments_lexer": "ipython3",
   "version": "3.7.4"
  }
 },
 "nbformat": 4,
 "nbformat_minor": 2
}
