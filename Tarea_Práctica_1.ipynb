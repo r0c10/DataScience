{
 "cells": [
  {
   "cell_type": "markdown",
   "metadata": {},
   "source": [
    "# Tarea Práctica de Statistical Learning I\n",
    "### Rocío Serguera 19012424"
   ]
  },
  {
   "cell_type": "markdown",
   "metadata": {},
   "source": [
    "La tarea práctica consiste en usar el mismo dataset del proyecto del curso pasado y e implementar gradient descent aplicado a regresión con este(usando la variable con mayor correlación elegida en el proyecto en anterior(solo una de las 2 del proyecto)),si no terminaron el proyecto anterior no se preocupen, no hay que hacer todo el proyecto, solo el entrenamiento con gradient descent pero usando tensorflow y usar tensorboard para monitorear que el error disminuya conforme avanzan las iteraciones \"en vivo\"(en lugar de hacerlo con matplotlib hasta el final como lo hicimos antes).\n",
    "Pueden usar el siguiente ejemplo de regresión con tensorflow: https://www.geeksforgeeks.org/linear-regression-using-tensorflow/ o el notebook usado en clase.\n",
    "\n",
    "Para la parte de Tensorboard, este nos permite visualizar mucha información relevante, pero nos centraremos en 2 cosas :\n",
    "\n",
    "La curva de aprendizaje(disminución de error MSE en el tiempo)(en la la pestaña \"scalars\")\n",
    "El grafo que representa a nuestro modelo (en la pestaña \"graphs\")\n",
    "\n",
    "Requisitos:\n",
    "\n",
    "- Utilizar solo operaciones vectorizadas.\n",
    "- Usar BATCH gradient descent (utilizar todo el dataset en cada paso de gradient descent)\n",
    "- Utilizar tensorboard:\n",
    "- Agregar el grafo del modelo.\n",
    "- Usar operaciones con nombre y usar name_spaces para mejorar el orden.\n",
    "- Agregar un summary.scalar para monitorear el MSE.\n",
    "- Aplicar reutilización de código: por ejemplo usar programación orientada a objetos para crear el modelo y/o definir el entrenamiento dentro de funciones de python.\n",
    "- Utilizar las funciones reutilizables de entrenamiento para ejecutar al menos 10 experimentos (variable numero de iteraciones, y diferente learning rate)\n",
    "- definir un string de configuración para cada experimento.\n",
    "- crear un directorio para cada experimento basado en el string de configuración.\n",
    "- utilizar un enfoque investigación científica: antes del experimento formular una hipótesis del comportamiento experado, ejecutar el experimento y utilizar los resultados de tensorboard para conculir.\n",
    "- basado en los resultados experimentales obtenidos con tensorboard crear una conclusión general y elegir el mejor experimento.\n",
    "- agregar el contenido de tensorboard al notebook.\n",
    "- subir el notebook a github y agregar al GES el link\n",
    "- no utilizar tf.train.GradientDescentOptimizer"
   ]
  },
  {
   "cell_type": "code",
   "execution_count": 73,
   "metadata": {},
   "outputs": [],
   "source": [
    "import numpy as np\n",
    "import pandas as pd\n",
    "import matplotlib.pyplot as plt\n",
    "import tensorflow as tf"
   ]
  },
  {
   "cell_type": "code",
   "execution_count": 76,
   "metadata": {},
   "outputs": [
    {
     "name": "stdout",
     "output_type": "stream",
     "text": [
      "The tensorboard module is not an IPython extension.\n"
     ]
    }
   ],
   "source": [
    "%load_ext tensorboard"
   ]
  },
  {
   "cell_type": "code",
   "execution_count": 2,
   "metadata": {},
   "outputs": [],
   "source": [
    "house_prices = np.load(\"/users/rocioserguera/Desktop/Maestría/Python/1er Trimestre/proyecto_training_data.npy\")"
   ]
  },
  {
   "cell_type": "code",
   "execution_count": 3,
   "metadata": {},
   "outputs": [],
   "source": [
    "# Separando la base de datos en dos datasets\n",
    "\n",
    "split = int(0.8*len(house_prices))\n",
    "train, test = house_prices[:split, :], house_prices[split:, :]\n",
    "df_train = pd.DataFrame(train)\n",
    "df_test = pd.DataFrame(test)\n",
    "# Nombrando columnas df_train\n",
    "df_train.columns = ['SalePrice', 'OverallQual', '1stFlrSF', 'TotRmsabvGrd', 'YearBuilt', 'LotFrontage']\n",
    "# Nombrando columnas df_test\n",
    "df_test.columns = ['SalePrice', 'OverallQual', '1stFlrSF', 'TotRmsabvGrd', 'YearBuilt', 'LotFrontage']\n",
    "\n",
    "x_train = df_train['OverallQual']\n",
    "y_train = df_train['SalePrice']"
   ]
  },
  {
   "cell_type": "code",
   "execution_count": 44,
   "metadata": {},
   "outputs": [],
   "source": [
    "\n",
    "# Mean Squared Error Cost Function\n",
    "def error(y,y_pred):\n",
    "    return 1/2*tf.reduce_mean(tf.math.square(y - y_pred))\n",
    "\n",
    "#Gradient Descent Function\n",
    "def gd(y,y_pred,m,b):\n",
    "    return tf.gradients(error(y,y_pred),[m,b])\n",
    "\n",
    "# Initializing variables m and b\n",
    "m = tf.Variable(np.random.randn(), name = \"m\") \n",
    "b = tf.Variable(np.random.randn(), name = \"b\")\n",
    "\n",
    "def run_training(x, y, epochs, lr, print_error_every=0):\n",
    "    \n",
    "    x = tf.placeholder(tf.float32,[len(x)],\"x\")\n",
    "    y = tf.placeholder(tf.float32,[len(y)],\"y\")\n",
    "    # Hypothesis \n",
    "    y_pred = tf.add(tf.multiply(x, m), b) \n",
    "    \n",
    "    # Calculating Gradient Descent \n",
    "    gradient = gd(y,y_pred,m,b)\n",
    "    \n",
    "    # Global Variables Initializer \n",
    "    init = tf.global_variables_initializer() \n",
    "    \n",
    "    # Saving data \n",
    "    m_ = tf.assign(m, m - lr*gradient[0] )\n",
    "    b_ = tf.assign(b, b - lr*gradient[1] )\n",
    "    parameters = tf.group(m_,b_)\n",
    "    \n",
    "    error_= error(y,y_pred)\n",
    "    error_scalar = tf.summary.scalar('Error', error_)\n",
    "    # Starting the Tensorflow Session \n",
    "    with tf.train.MonitoredSession() as sess: \n",
    "        # Initializing the Variables \n",
    "        sess.run(init)\n",
    "        feed_dict = {x: x_train, y:y_train}\n",
    "        writer = tf.summary.FileWriter('/users/rocioserguera/Desktop/Tensorboard', sess.graph)\n",
    "        # Iterating through all the epochs \n",
    "        for epoch in range(epochs):\n",
    "            sess.run(gradient,feed_dict=feed_dict)\n",
    "            sess.run(parameters,feed_dict=feed_dict)\n",
    "            summary = sess.run(error_scalar,feed_dict)\n",
    "            writer.add_summary(summary, (epoch+1))\n",
    "            # Displaying the result after every n epochs \n",
    "            if (epoch + 1) % print_error_every == 0: \n",
    "                # Calculating the error \n",
    "                e = sess.run(error_, feed_dict = feed_dict) \n",
    "                print(\"Epoch\", (epoch + 1), \": Error =\", e, \"m =\", sess.run(m), \"b =\", sess.run(b)) \n",
    "\n",
    "                 \n",
    "    return error_, parameters"
   ]
  },
  {
   "cell_type": "markdown",
   "metadata": {},
   "source": [
    "### Experimento 1\n",
    "\n",
    "epochs=10000  \n",
    "lr=0.001\n",
    "\n",
    "enfoque investigación científica: antes del experimento formular una hipótesis del comportamiento experado, ejecutar el experimento y utilizar los resultados de tensorboard para conculir."
   ]
  },
  {
   "cell_type": "code",
   "execution_count": 55,
   "metadata": {},
   "outputs": [
    {
     "name": "stdout",
     "output_type": "stream",
     "text": [
      "INFO:tensorflow:Graph was finalized.\n",
      "INFO:tensorflow:Running local_init_op.\n",
      "INFO:tensorflow:Done running local_init_op.\n",
      "Epoch 5000 : Error = 1301281800.0 m = 32954.117 b = -16686.4\n",
      "Epoch 10000 : Error = 1243061000.0 m = 35580.223 b = -33504.598\n"
     ]
    }
   ],
   "source": [
    "Y = df_train['SalePrice']\n",
    "X = df_train['OverallQual']\n",
    "\n",
    "error_1, parametros_1 = run_training(X, Y, 10000, 0.001, 5000)"
   ]
  },
  {
   "cell_type": "markdown",
   "metadata": {},
   "source": [
    "### Experimento 2\n",
    "Para este segundo experimento se mantendrá el valor del lr pero se modificará el número de iteraciones para ver observar si el valor del error disminuye notablemente.\n",
    "\n",
    "epochs=15000  \n",
    "lr=0.001"
   ]
  },
  {
   "cell_type": "code",
   "execution_count": 56,
   "metadata": {},
   "outputs": [
    {
     "name": "stdout",
     "output_type": "stream",
     "text": [
      "INFO:tensorflow:Graph was finalized.\n",
      "INFO:tensorflow:Running local_init_op.\n",
      "INFO:tensorflow:Done running local_init_op.\n",
      "Epoch 10000 : Error = 1243061000.0 m = 35580.223 b = -33504.598\n",
      "Epoch 20000 : Error = 1184213800.0 m = 39288.344 b = -57252.31\n"
     ]
    }
   ],
   "source": [
    "error_2, parametros_2 = run_training(X, Y, 20000, 0.001, 10000)"
   ]
  },
  {
   "cell_type": "markdown",
   "metadata": {},
   "source": [
    "### Experimento 3\n",
    "Para este experimento se modifican ambos parámetros\n",
    "\n",
    "epochs=10000  \n",
    "lr=0.009"
   ]
  },
  {
   "cell_type": "code",
   "execution_count": 50,
   "metadata": {},
   "outputs": [
    {
     "name": "stdout",
     "output_type": "stream",
     "text": [
      "INFO:tensorflow:Graph was finalized.\n",
      "INFO:tensorflow:Running local_init_op.\n",
      "INFO:tensorflow:Done running local_init_op.\n",
      "Epoch 5000 : Error = 1150408800.0 m = 43538.13 b = -84468.836\n",
      "Epoch 10000 : Error = 1146965200.0 m = 45189.527 b = -95044.81\n"
     ]
    }
   ],
   "source": [
    "error_3, parametros_3 = run_training(X, Y, 10000, 0.009, 5000)"
   ]
  },
  {
   "cell_type": "markdown",
   "metadata": {},
   "source": [
    "Con este lr y cantidad de iteraciones se puede apreciar que el errordisminuyó notablemente.\n",
    "A modo de comparación con los experimentos anteriores, se observa que desde la iteración 5000 el error obtenido ya era mucho menor que el de la iteracion 20000 del experimento 2, razón por la cual se decide mantener para el próximo experimento esta cantidad de iteraciones, e incrementar el lr."
   ]
  },
  {
   "cell_type": "markdown",
   "metadata": {},
   "source": [
    "### Experimento 4\n",
    "\n",
    "Al aumenta el lr a 0.01 se espera que el error no disminuya mucho, pues solo se está incrementando un 0.001 en comparación con el experimento anterior, no obstante se realiza para apreciar la posibilidad de disminuir la cantidad de iteraciones. \n",
    "\n",
    "epochs=10000  \n",
    "lr=0.01"
   ]
  },
  {
   "cell_type": "code",
   "execution_count": 51,
   "metadata": {},
   "outputs": [
    {
     "name": "stdout",
     "output_type": "stream",
     "text": [
      "INFO:tensorflow:Graph was finalized.\n",
      "INFO:tensorflow:Running local_init_op.\n",
      "INFO:tensorflow:Done running local_init_op.\n",
      "Epoch 5000 : Error = 1149091000.0 m = 43933.305 b = -86999.64\n",
      "Epoch 10000 : Error = 1146935200.0 m = 45273.457 b = -95582.31\n"
     ]
    }
   ],
   "source": [
    "error_4, parametros_4 = run_training(X, Y, 10000, 0.01, 5000)"
   ]
  },
  {
   "cell_type": "markdown",
   "metadata": {},
   "source": [
    "Como se esperaba no hubo mucho cambio en la disminución del error obtenido con respecto al experimento anterior, pero si se puede apreciar que el error no presenta mucha variación de las 5000 a las 10000 iteraciones, no obstante se decide seguir aumentando el lr y mantener la cantidad de iteraciones hasta que la disminución no sea notable."
   ]
  },
  {
   "cell_type": "markdown",
   "metadata": {},
   "source": [
    "### Experimento 5\n",
    "\n",
    "epochs=10000  \n",
    "lr=0.02"
   ]
  },
  {
   "cell_type": "code",
   "execution_count": 53,
   "metadata": {},
   "outputs": [
    {
     "name": "stdout",
     "output_type": "stream",
     "text": [
      "INFO:tensorflow:Graph was finalized.\n",
      "INFO:tensorflow:Running local_init_op.\n",
      "INFO:tensorflow:Done running local_init_op.\n",
      "Epoch 5000 : Error = 1146935400.0 m = 45273.63 b = -95583.41\n",
      "Epoch 10000 : Error = 1146916600.0 m = 45410.695 b = -96461.234\n"
     ]
    }
   ],
   "source": [
    "error_5, parametros_5 = run_training(X, Y, 10000, 0.02, 5000)"
   ]
  },
  {
   "cell_type": "markdown",
   "metadata": {},
   "source": [
    "Al obtener estos valores, se puede afirmar que el error no varió notablemente desde las 5000 iteraciones hasta las 10000, por lo que se decide bajar el nímero de iteraciones a 5000 para el próximo experimento."
   ]
  },
  {
   "cell_type": "markdown",
   "metadata": {},
   "source": [
    "### Experimento 6\n",
    "\n",
    "epochs=5000  \n",
    "lr=0.03"
   ]
  },
  {
   "cell_type": "code",
   "execution_count": 54,
   "metadata": {},
   "outputs": [
    {
     "name": "stdout",
     "output_type": "stream",
     "text": [
      "INFO:tensorflow:Graph was finalized.\n",
      "INFO:tensorflow:Running local_init_op.\n",
      "INFO:tensorflow:Done running local_init_op.\n",
      "Epoch 5000 : Error = 1146916500.0 m = 45399.062 b = -96386.72\n"
     ]
    }
   ],
   "source": [
    "error_6, parametros_6 = run_training(X, Y, 5000, 0.03, 5000)"
   ]
  },
  {
   "cell_type": "markdown",
   "metadata": {},
   "source": [
    "Se decide seguir aumentando el lr, pues el valor del error no varió mucho con respecto al experimento anterior"
   ]
  },
  {
   "cell_type": "markdown",
   "metadata": {},
   "source": [
    "### Experimento 7\n",
    "\n",
    "Como no se ha observado un cambio importante en el error aumentando de 0.01 en 0.01, se decide incrementar aún más el lr\n",
    "\n",
    "epochs=5000  \n",
    "lr=0.09"
   ]
  },
  {
   "cell_type": "code",
   "execution_count": 60,
   "metadata": {},
   "outputs": [
    {
     "name": "stdout",
     "output_type": "stream",
     "text": [
      "INFO:tensorflow:Graph was finalized.\n",
      "INFO:tensorflow:Running local_init_op.\n",
      "INFO:tensorflow:Done running local_init_op.\n",
      "Epoch 5000 : Error = nan m = nan b = nan\n"
     ]
    }
   ],
   "source": [
    "error_7, parametros_7 = run_training(X, Y, 5000, 0.09, 5000)"
   ]
  },
  {
   "cell_type": "markdown",
   "metadata": {},
   "source": [
    "Se aprecia que al lr ser tan alto, se obtienen valores nan en el error, por lo que se decide disminuir el mismo"
   ]
  },
  {
   "cell_type": "markdown",
   "metadata": {},
   "source": [
    "### Experimento 8\n",
    "\n",
    "epochs=5000  \n",
    "lr=0.05"
   ]
  },
  {
   "cell_type": "code",
   "execution_count": 62,
   "metadata": {},
   "outputs": [
    {
     "name": "stdout",
     "output_type": "stream",
     "text": [
      "INFO:tensorflow:Graph was finalized.\n",
      "INFO:tensorflow:Running local_init_op.\n",
      "INFO:tensorflow:Done running local_init_op.\n",
      "Epoch 1000 : Error = 25074963000000.0 m = -1061340.0 b = -259606.05\n",
      "Epoch 2000 : Error = 3.4902491e+16 m = -41191908.0 b = -6534609.5\n",
      "Epoch 3000 : Error = 4.858457e+19 m = -1538498700.0 b = -240335040.0\n",
      "Epoch 4000 : Error = 6.7624435e+22 m = -57400040000.0 b = -8962804000.0\n",
      "Epoch 5000 : Error = 9.413623e+25 m = -2141604000000.0 b = -334401370000.0\n"
     ]
    }
   ],
   "source": [
    "error_8, parametros_8 = run_training(X, Y, 5000, 0.05, 1000)"
   ]
  },
  {
   "cell_type": "markdown",
   "metadata": {},
   "source": [
    "Este lr no lanza valores nan, pero sin embargo, se invirtieron los valores del error, y en vez de disminuir a partir de un punto comenzó a aumentar, por lo que este lr tampoco sirve, se continúa bajando su valor, pero esta vez muy poco."
   ]
  },
  {
   "cell_type": "markdown",
   "metadata": {},
   "source": [
    "### Experimento 9\n",
    "\n",
    "epochs=5000  \n",
    "lr=0.049"
   ]
  },
  {
   "cell_type": "code",
   "execution_count": 72,
   "metadata": {},
   "outputs": [
    {
     "name": "stdout",
     "output_type": "stream",
     "text": [
      "INFO:tensorflow:Graph was finalized.\n",
      "INFO:tensorflow:Running local_init_op.\n",
      "INFO:tensorflow:Done running local_init_op.\n",
      "Epoch 5000 : Error = 1146916100.0 m = 45411.77 b = -96468.09\n"
     ]
    }
   ],
   "source": [
    "error_9, parametros_9 = run_training(X, Y, 5000, 0.049, 5000)"
   ]
  },
  {
   "cell_type": "markdown",
   "metadata": {},
   "source": [
    "Con esta disminución del lr no se obtienen nans en el valor de error, y se obtiene un error notablemente bajo con respecto a los experimentos anteriores, sin embargo, aunque ya se probó con anterioridad que si se aumenta el número de iteraciones el error no disminuye mucho, en aras de buscar el error mínimo se decide aumentar las iteraciones a 10000"
   ]
  },
  {
   "cell_type": "markdown",
   "metadata": {},
   "source": [
    "### Experimento 10\n",
    "\n",
    "epochs=10000  \n",
    "lr=0.049"
   ]
  },
  {
   "cell_type": "code",
   "execution_count": 75,
   "metadata": {},
   "outputs": [
    {
     "name": "stdout",
     "output_type": "stream",
     "text": [
      "INFO:tensorflow:Graph was finalized.\n",
      "INFO:tensorflow:Running local_init_op.\n",
      "INFO:tensorflow:Done running local_init_op.\n",
      "Epoch 1000 : Error = 1149296900.0 m = 43864.926 b = -86561.664\n",
      "Epoch 2000 : Error = 1146939000.0 m = 45260.375 b = -95498.54\n",
      "Epoch 3000 : Error = 1146916200.0 m = 45397.15 b = -96374.44\n",
      "Epoch 4000 : Error = 1146916200.0 m = 45410.54 b = -96460.21\n",
      "Epoch 5000 : Error = 1146916100.0 m = 45411.77 b = -96468.09\n",
      "Epoch 6000 : Error = 1146916100.0 m = 45411.77 b = -96468.09\n",
      "Epoch 7000 : Error = 1146916100.0 m = 45411.77 b = -96468.09\n",
      "Epoch 8000 : Error = 1146916100.0 m = 45411.77 b = -96468.09\n",
      "Epoch 9000 : Error = 1146916100.0 m = 45411.77 b = -96468.09\n",
      "Epoch 10000 : Error = 1146916100.0 m = 45411.77 b = -96468.09\n"
     ]
    }
   ],
   "source": [
    "error_10, parametros_10 = run_training(X, Y, 10000, 0.049, 1000)"
   ]
  },
  {
   "cell_type": "markdown",
   "metadata": {},
   "source": [
    "Se puede apreciar que con este lr y cantidad de iteraciones, despues de las 5000 iteraciones se mantiene el mismo error, sin embargo en aras de asegurar que no se puede conseguir un error más bajo, se decide aumentar el lr a 0.0499"
   ]
  },
  {
   "cell_type": "markdown",
   "metadata": {},
   "source": [
    "### Experimento 11\n",
    "\n",
    "epochs=5000  \n",
    "lr=0.0499"
   ]
  },
  {
   "cell_type": "code",
   "execution_count": 69,
   "metadata": {},
   "outputs": [
    {
     "name": "stdout",
     "output_type": "stream",
     "text": [
      "INFO:tensorflow:Graph was finalized.\n",
      "INFO:tensorflow:Running local_init_op.\n",
      "INFO:tensorflow:Done running local_init_op.\n",
      "Epoch 5000 : Error = 1543498000.0 m = 41016.195 b = -97155.23\n"
     ]
    }
   ],
   "source": [
    "error_11, parametros_11 = run_training(X, Y, 5000, 0.0499, 5000)"
   ]
  },
  {
   "cell_type": "markdown",
   "metadata": {},
   "source": [
    "El error con este último experimento aumentó."
   ]
  },
  {
   "cell_type": "markdown",
   "metadata": {},
   "source": [
    "### Conclusión\n",
    "\n",
    "Se realizaron pruebas variando el valor de lr y de las iteraciones, concluyendo lo siguiente:\n",
    "\n",
    "* El máximo número de lr que se puede utilizar es de 0.049, cualquier valor por encima (0.05, etc.) anulan el valor del error.\n",
    "* Con lr por debajo de 0.009 habría que repetir más iteraciones para lograr el mismo resultado, lo cual conduciría a un mayor cómputo de datos.\n",
    "* Con un lr de 0.049, despues de las 5000 iteraciones el número de error que se obtiene es el mismo.\n",
    "* El mejor experimento fue el 9, con una cantidad de iteraciones de 5000 y un lr de 0.49, obteniendo el menor valor de error posible (1146916100.0)."
   ]
  }
 ],
 "metadata": {
  "kernelspec": {
   "display_name": "Python 3",
   "language": "python",
   "name": "python3"
  },
  "language_info": {
   "codemirror_mode": {
    "name": "ipython",
    "version": 3
   },
   "file_extension": ".py",
   "mimetype": "text/x-python",
   "name": "python",
   "nbconvert_exporter": "python",
   "pygments_lexer": "ipython3",
   "version": "3.7.4"
  }
 },
 "nbformat": 4,
 "nbformat_minor": 2
}
